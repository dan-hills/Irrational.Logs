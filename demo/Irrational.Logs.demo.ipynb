{
 "cells": [
  {
   "cell_type": "markdown",
   "metadata": {},
   "source": [
    "# Irrational.Logs\n",
    "\n",
    "Author: dan-hills\n",
    "\n",
    "## Synopsis\n",
    "\n",
    "Irrational.Logs is logging tool which allows you to easily build structured logs inside of your scripts. This is a complex solution to a simple problem but one that can help your team to more easily manipulate logged output."
   ]
  },
  {
   "cell_type": "markdown",
   "metadata": {},
   "source": [
    "## Usage\n",
    "\n",
    "The `Irrational.Logs` module has been organized following best practice guidlines for module design. To begin using the module, simply import the PSD1 file within your current session and your functions should be ready for use. \n",
    "\n",
    "### General Usage"
   ]
  },
  {
   "cell_type": "code",
   "execution_count": null,
   "metadata": {
    "dotnet_interactive": {
     "language": "pwsh"
    },
    "vscode": {
     "languageId": "dotnet-interactive.pwsh"
    }
   },
   "outputs": [],
   "source": [
    "Import-Module ..\\Irrational.Logs\\Irrational.Logs.psd1 -force\n",
    "Set-IrrationalLog -Path C:\\Temp\\Logs -OutputType 'log' -ProjectName 'RTPSUG' -Force"
   ]
  },
  {
   "cell_type": "markdown",
   "metadata": {},
   "source": [
    "> All message output is uniform and consistent"
   ]
  },
  {
   "cell_type": "code",
   "execution_count": null,
   "metadata": {
    "dotnet_interactive": {
     "language": "pwsh"
    },
    "vscode": {
     "languageId": "dotnet-interactive.pwsh"
    }
   },
   "outputs": [],
   "source": [
    "Write-IrrationalLog 'Test'\n"
   ]
  },
  {
   "cell_type": "code",
   "execution_count": null,
   "metadata": {
    "dotnet_interactive": {
     "language": "pwsh"
    },
    "vscode": {
     "languageId": "dotnet-interactive.pwsh"
    }
   },
   "outputs": [],
   "source": [
    "Write-IrrationalLog 'Longer test message with more details'\n",
    "Write-IrrationalLog 'An even longer message with far too much details to be useful'\n",
    "Write-IrrationalLog 'A log message with an attached object' -Attachment ([PSCustomObject]@{ Name='Attachment';Content='AttachmentContent'})"
   ]
  },
  {
   "cell_type": "markdown",
   "metadata": {},
   "source": [
    "### Applying Severity"
   ]
  },
  {
   "cell_type": "markdown",
   "metadata": {},
   "source": [
    "> Severity levels can be selected to highlight specific message levels"
   ]
  },
  {
   "cell_type": "code",
   "execution_count": null,
   "metadata": {
    "dotnet_interactive": {
     "language": "pwsh"
    },
    "vscode": {
     "languageId": "dotnet-interactive.pwsh"
    }
   },
   "outputs": [],
   "source": [
    "Write-IrrationalLog -Severity Alert -Message \"I AM AN ALERT!\"\n",
    "Write-IrrationalLog -Severity Crit -Message \"SYSTEMS ARE CRITICAL!\"\n",
    "Write-IrrationalLog -Severity Error -Message \"I AM ERROR!\"\n",
    "Write-IrrationalLog -Severity Warn -Message \"THIS IS YOUR LAST WARNING\"\n",
    "Write-IrrationalLog -Severity Notice -Message \"PLEASE NOTICE ME\"\n",
    "Write-IrrationalLog -Severity Info -Message \"INFORMATION IS KEY\"\n",
    "Write-IrrationalLog -Severity Debug -Message \"JUST IGNORE THIS DEBUG\"\n"
   ]
  },
  {
   "cell_type": "markdown",
   "metadata": {},
   "source": [
    "> By default, all messages use the \"Information\" severity level and all debug messages are hidden from display. Regardless of your output display settings, all logs should continue to write to your external log file"
   ]
  },
  {
   "cell_type": "code",
   "execution_count": null,
   "metadata": {
    "dotnet_interactive": {
     "language": "pwsh"
    },
    "vscode": {
     "languageId": "dotnet-interactive.pwsh"
    }
   },
   "outputs": [],
   "source": [
    "Write-IrrationalLog -Severity Debug -DisplaySeverityLevel Debug -Message \"Now you see me\""
   ]
  },
  {
   "cell_type": "markdown",
   "metadata": {},
   "source": [
    "All logs entries are object oriented and the log output structure can be sent to the pipeline or saved to a variable"
   ]
  },
  {
   "cell_type": "code",
   "execution_count": null,
   "metadata": {
    "dotnet_interactive": {
     "language": "pwsh"
    },
    "vscode": {
     "languageId": "dotnet-interactive.pwsh"
    }
   },
   "outputs": [],
   "source": [
    "Write-IrrationalLog -Severity Error -Message \"I AM ERROR!\" -PassThru"
   ]
  },
  {
   "cell_type": "markdown",
   "metadata": {},
   "source": [
    "### Applying Groups while using Loops\n",
    "\n",
    "Using groups is a great way to organize your output for reability and so you can reference specific elements later"
   ]
  },
  {
   "cell_type": "code",
   "execution_count": null,
   "metadata": {
    "dotnet_interactive": {
     "language": "pwsh"
    },
    "vscode": {
     "languageId": "dotnet-interactive.pwsh"
    }
   },
   "outputs": [],
   "source": [
    "$collection1 = 1,2,3,4,5\n",
    "$collection2 = 'a','b','c','d','e'\n",
    "\n",
    "forEach( $item in @($collection1+$collection2 )){\n",
    "    \n",
    "    $alphanumeric = if( $item -is [int] ){ 'numeric' }else{ 'alpha' }\n",
    "\n",
    "    Write-IrrationalLog -Group $alphanumeric -Message \"The current value is $item\"\n",
    "}"
   ]
  },
  {
   "cell_type": "markdown",
   "metadata": {},
   "source": [
    "### Using Collections\n",
    "\n",
    "Collections are similar to groups in that they organize your logs, however, whereas logs are intended to provide a logical seperation, collections go a step further and are organized as separate output log files as well. Multiple collections can be specified to save to mutliple folders within the project directory."
   ]
  },
  {
   "cell_type": "code",
   "execution_count": null,
   "metadata": {
    "dotnet_interactive": {
     "language": "pwsh"
    },
    "vscode": {
     "languageId": "dotnet-interactive.pwsh"
    }
   },
   "outputs": [],
   "source": [
    "$collection1 = 1,2,3,4,5\n",
    "$collection2 = 'a','b','c','d','e'\n",
    "\n",
    "forEach( $item in @($collection1+$collection2 )){\n",
    "    \n",
    "    $alphanumeric = if( $collection1 -contains $item ){ 'numeric' }else{ 'alpha' }\n",
    "\n",
    "    Write-IrrationalLog -Collection $alphanumeric -Message \"The current value is $item\"\n",
    "}"
   ]
  },
  {
   "cell_type": "markdown",
   "metadata": {},
   "source": [
    "### FizzBuzz Example\n",
    "\n",
    "Using the traditional FizzBuzz puzzle, we can show a better interpretation of managing log output within a loop"
   ]
  },
  {
   "cell_type": "markdown",
   "metadata": {},
   "source": [
    "#### Configuring the environment using `Set-IrrationalLog`\n",
    "\n",
    "The function `Set-IrrationalLog` can be used to save regularly used parameters to the $PSDefaultParameterValues environment variable"
   ]
  },
  {
   "cell_type": "code",
   "execution_count": null,
   "metadata": {
    "dotnet_interactive": {
     "language": "pwsh"
    },
    "vscode": {
     "languageId": "dotnet-interactive.pwsh"
    }
   },
   "outputs": [],
   "source": [
    "Set-IrrationalLog -Path C:\\Temp -OutputType 'log' -ProjectName 'FizzBuzzRTPSUG' -Force -Verbose\n",
    "\n",
    "$PSDefaultParameterValues"
   ]
  },
  {
   "cell_type": "code",
   "execution_count": null,
   "metadata": {
    "dotnet_interactive": {
     "language": "pwsh"
    },
    "vscode": {
     "languageId": "dotnet-interactive.pwsh"
    }
   },
   "outputs": [],
   "source": [
    "Remove-Variable 'Fizz','Buzz','FizzBuzz' -ErrorAction 'silentlyContinue'\n",
    "\n",
    "$output = (1..50) | ForEach-Object{ \n",
    "    \n",
    "    $log = switch( $_ ){\n",
    "\n",
    "        # Fizz\n",
    "        { $_ % 3 -eq 0 -AND $_ % 5 -ne 0 } { \n",
    "            @{\n",
    "                Title       = 'Result'\n",
    "                Severity    = 'Warn'\n",
    "                Group       = 'Fizz'\n",
    "                Message     = \"$_ is divisible by 3\"\n",
    "                Collection  = 'Default','Fizz'\n",
    "                LogVariable = 'Fizz'\n",
    "                Attachment  = $_\n",
    "            } \n",
    "        }\n",
    "\n",
    "        # Buzz\n",
    "        { $_ % 5 -eq 0 -AND $_ % 3 -ne 0 } { \n",
    "\n",
    "            @{\n",
    "                Title       = 'Result'\n",
    "                Severity    = 'Crit'\n",
    "                Group       = 'Buzz'\n",
    "                Message     = \"$_ is divisible by 5\"\n",
    "                Collection  = 'Default','Buzz'\n",
    "                LogVariable = 'Buzz'\n",
    "                Attachment  = $_\n",
    "            }\n",
    "        }\n",
    "\n",
    "        # FizzBuzz\n",
    "        { $_ % 5 -eq 0 -AND $_ % 3 -eq 0 } { \n",
    "\n",
    "            @{\n",
    "                Title       = 'Result'\n",
    "                Severity    = 'Error'\n",
    "                Group       = 'Fizz','Buzz'\n",
    "                Message     = \"$_ is divisible by 5 AND 3\"\n",
    "                Collection  = 'Default','Fizz','Buzz'\n",
    "                LogVariable = 'FizzBuzz'\n",
    "                Attachment  = $_\n",
    "            }\n",
    "        }\n",
    "\n",
    "        default          { \n",
    "            @{\n",
    "                Title       = 'Result'\n",
    "                Message     = $_\n",
    "            } \n",
    "        }\n",
    "    }\n",
    "\n",
    "    $log | ForEach-Object{ Write-IrrationalLog @_ -PassThru}\n",
    "}"
   ]
  },
  {
   "cell_type": "code",
   "execution_count": null,
   "metadata": {
    "dotnet_interactive": {
     "language": "pwsh"
    },
    "vscode": {
     "languageId": "dotnet-interactive.pwsh"
    }
   },
   "outputs": [],
   "source": [
    "\"Fizz Results: \"\n",
    "$fizz.attachment -join ', '\n",
    "\n",
    "\"Buzz Results: \"\n",
    "$buzz.attachment -join ', '\n",
    "\n",
    "\"FizzBuzz Results: \"\n",
    "$fizzBuzz.attachment -join ', '"
   ]
  },
  {
   "cell_type": "code",
   "execution_count": null,
   "metadata": {
    "dotnet_interactive": {
     "language": "pwsh"
    },
    "vscode": {
     "languageId": "dotnet-interactive.pwsh"
    }
   },
   "outputs": [],
   "source": [
    "$output.where{ $_.group -contains 'Fizz' } | ft attachment"
   ]
  },
  {
   "cell_type": "code",
   "execution_count": null,
   "metadata": {
    "dotnet_interactive": {
     "language": "pwsh"
    },
    "vscode": {
     "languageId": "dotnet-interactive.pwsh"
    }
   },
   "outputs": [],
   "source": [
    "$output.where({ $_.group -contains 'Fizz' }).attachment -join ','"
   ]
  },
  {
   "cell_type": "markdown",
   "metadata": {},
   "source": [
    "## Code Details\n",
    "\n",
    "This code is still a WIP and not currently looking for code contributors, however bug fixes and suggestions are appreciated\n",
    "\n",
    "+ **Published Package**: TBD\n",
    "+ **Source Code**: [https://github.com/dan-hills/Irrational.Logs](https://github.com/dan-hills/Irrational.Logs)"
   ]
  }
 ],
 "metadata": {
  "kernelspec": {
   "display_name": ".NET (PowerShell)",
   "language": "PowerShell",
   "name": ".net-pwsh"
  },
  "language_info": {
   "name": "PowerShell"
  }
 },
 "nbformat": 4,
 "nbformat_minor": 2
}
